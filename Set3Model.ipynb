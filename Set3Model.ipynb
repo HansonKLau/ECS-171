{
 "cells": [
  {
   "cell_type": "markdown",
   "id": "3a6a8c57",
   "metadata": {},
   "source": [
    "# Feature selection\n",
    "\n",
    "Using variance inflation factor (VIF) to check for multicollinearity between the variables. Values of 5 or higher indicate a high correlation. Features with high correlation are removed from the model."
   ]
  },
  {
   "cell_type": "code",
   "execution_count": null,
   "id": "47f3a70d",
   "metadata": {},
   "outputs": [
    {
     "name": "stdout",
     "output_type": "stream",
     "text": [
      "Removing: mean radius with VIF = 63306.17203588469\n",
      "Removing: worst radius with VIF = 7573.943486033555\n",
      "Removing: mean perimeter with VIF = 3901.901687119607\n",
      "Removing: worst perimeter with VIF = 668.3854404127386\n",
      "Removing: mean fractal dimension with VIF = 508.08682464149285\n",
      "Removing: worst smoothness with VIF = 368.0533791867144\n",
      "Removing: worst texture with VIF = 309.54444960438434\n",
      "Removing: worst fractal dimension with VIF = 184.67972071700538\n",
      "Removing: worst symmetry with VIF = 167.30971478504884\n",
      "Removing: mean concavity with VIF = 142.29904340088856\n",
      "Removing: radius error with VIF = 104.99215955661566\n",
      "Removing: worst concave points with VIF = 100.94649021325061\n",
      "Removing: mean smoothness with VIF = 86.99658368431041\n",
      "Removing: mean compactness with VIF = 74.72314541276282\n",
      "Removing: mean area with VIF = 67.47169344522449\n",
      "Removing: worst compactness with VIF = 49.02308700997905\n",
      "Removing: perimeter error with VIF = 43.72833047786977\n",
      "Removing: mean symmetry with VIF = 36.0757931560618\n",
      "Removing: mean texture with VIF = 23.709901129257826\n",
      "Removing: concave points error with VIF = 18.16312090582923\n",
      "Removing: compactness error with VIF = 15.728368747925318\n",
      "Removing: worst area with VIF = 13.976625992787914\n",
      "Removing: mean concave points with VIF = 11.176654130350768\n",
      "Removing: symmetry error with VIF = 8.648327614210078\n",
      "Removing: fractal dimension error with VIF = 7.551747392596707\n",
      "Removing: smoothness error with VIF = 6.005778935127312\n",
      "\n",
      "Best Features:\n",
      "['texture error', 'area error', 'concavity error', 'worst concavity']\n"
     ]
    }
   ],
   "source": [
    "import statsmodels.api as sm\n",
    "from sklearn.datasets import load_breast_cancer\n",
    "import numpy as np\n",
    "from statsmodels.stats.outliers_influence import variance_inflation_factor\n",
    "\n",
    "\n",
    "breast_cancer = load_breast_cancer()\n",
    "X = breast_cancer.data\n",
    "feature_names = breast_cancer.feature_names.tolist()\n",
    "\n",
    "# Computre and return VIF values\n",
    "def compute_vif(X):\n",
    "    return [variance_inflation_factor(X, i) for i in range(X.shape[1])]\n",
    "\n",
    "# Remove features one by one until all VIF values are under 5\n",
    "while True:\n",
    "    vifs = compute_vif(X)\n",
    "    max_vif = max(vifs)\n",
    "    \n",
    "    # Once all VIF values are under 5, it's done\n",
    "    if max_vif < 5:\n",
    "        break\n",
    "\n",
    "    # Remove the feature with the highest VIF\n",
    "    max_index = vifs.index(max_vif)\n",
    "    feature_to_remove = feature_names[max_index]\n",
    "    print(f\"Removing: {feature_to_remove} with VIF = {max_vif}\")\n",
    "    \n",
    "    # Remove the column and its corresponding feature name\n",
    "    X = np.delete(X, max_index, axis=1)\n",
    "    feature_names.pop(max_index)\n",
    "\n",
    "# Final result\n",
    "print(\"\\nBest Features:\")\n",
    "print(feature_names)\n"
   ]
  },
  {
   "cell_type": "markdown",
   "id": "795305ad",
   "metadata": {},
   "source": [
    "# Selected Features\n",
    "\n",
    "4 features were chosen based on VIF. The following features were the only features with a VIF value less than 5.\n",
    "\n",
    "texture error (index 11)\n",
    "area error (index 13)\n",
    "concavity error (index 16)\n",
    "worst concavity (index 26)"
   ]
  },
  {
   "cell_type": "code",
   "execution_count": null,
   "id": "d384661d",
   "metadata": {},
   "outputs": [
    {
     "name": "stdout",
     "output_type": "stream",
     "text": [
      "Accuracy: 0.9395104895104895\n"
     ]
    }
   ],
   "source": [
    "from sklearn.linear_model import LogisticRegression\n",
    "from sklearn.model_selection import train_test_split\n",
    "from sklearn.datasets import load_breast_cancer\n",
    "from sklearn.preprocessing import StandardScaler\n",
    "from sklearn.metrics import accuracy_score\n",
    "\n",
    "# Indicies of features chosen by VIF\n",
    "features = (11, 13, 16, 26)\n",
    "\n",
    "# Load data\n",
    "breast_cancer = load_breast_cancer()\n",
    "\n",
    "# Features from VIF\n",
    "X = breast_cancer.data[:, list(features)]\n",
    "y = breast_cancer.target\n",
    "\n",
    "avgScore = 0\n",
    "runs = 20\n",
    "\n",
    "for i in range(runs):\n",
    "    # Split data into 75:25\n",
    "    X_train, X_test, y_train, y_test = train_test_split(X, y, train_size=0.75)\n",
    "\n",
    "    # Scale data\n",
    "    scaler = StandardScaler()\n",
    "    X_train = scaler.fit_transform(X_train)\n",
    "    X_test = scaler.fit_transform(X_test)\n",
    "\n",
    "    # Train the logistic regression model\n",
    "    model = LogisticRegression(max_iter=15)\n",
    "    model.fit(X_train, y_train)\n",
    "\n",
    "    # Evaluate the model on the test data\n",
    "    y_pred = model.predict(X_test)\n",
    "    score = accuracy_score(y_test, y_pred)\n",
    "    avgScore += score\n",
    "\n",
    "# getting average score across all runs\n",
    "print(\"Accuracy:\", avgScore/runs)"
   ]
  }
 ],
 "metadata": {
  "kernelspec": {
   "display_name": "Python 3",
   "language": "python",
   "name": "python3"
  },
  "language_info": {
   "codemirror_mode": {
    "name": "ipython",
    "version": 3
   },
   "file_extension": ".py",
   "mimetype": "text/x-python",
   "name": "python",
   "nbconvert_exporter": "python",
   "pygments_lexer": "ipython3",
   "version": "3.11.4"
  }
 },
 "nbformat": 4,
 "nbformat_minor": 5
}
