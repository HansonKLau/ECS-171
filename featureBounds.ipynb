{
 "cells": [
  {
   "cell_type": "code",
   "execution_count": 16,
   "id": "03248406",
   "metadata": {},
   "outputs": [
    {
     "name": "stdout",
     "output_type": "stream",
     "text": [
      "Mins:\n",
      "{\n",
      "    'worst perimeter': 50.41,\n",
      "    'worst radius': 7.93,\n",
      "    'worst concave points': 0.0,\n",
      "    'worst area': 185.2,\n",
      "    'mean concave points': 0.0,\n",
      "    'mean concavity': 0.0,\n",
      "    'mean area': 143.5,\n",
      "    'area error': 6.802,\n",
      "    'mean perimeter': 43.79,\n",
      "    'mean radius': 6.981,\n",
      "    'worst concavity': 0.0,\n",
      "    'worst texture': 12.02,\n",
      "    'mean texture': 9.71,\n",
      "}\n",
      "\n",
      "Maxs\n",
      "{\n",
      "    'worst perimeter': 251.2,\n",
      "    'worst radius': 36.04,\n",
      "    'worst concave points': 0.291,\n",
      "    'worst area': 4254.0,\n",
      "    'mean concave points': 0.2012,\n",
      "    'mean concavity': 0.4268,\n",
      "    'mean area': 2501.0,\n",
      "    'area error': 542.2,\n",
      "    'mean perimeter': 188.5,\n",
      "    'mean radius': 28.11,\n",
      "    'worst concavity': 1.252,\n",
      "    'worst texture': 49.54,\n",
      "    'mean texture': 39.28,\n",
      "}\n"
     ]
    }
   ],
   "source": [
    "import numpy as np\n",
    "from sklearn.datasets import load_breast_cancer\n",
    "from sklearn.preprocessing import StandardScaler\n",
    "from sklearn.ensemble import RandomForestClassifier\n",
    "\n",
    "breast_cancer = load_breast_cancer()\n",
    "selected_features_indices = [22, 20, 27, 23, 7, 6, 3, 13, 2, 0, 26, 21, 1]\n",
    "X = breast_cancer.data\n",
    "\n",
    "mins = []\n",
    "maxs = []\n",
    "for idx in selected_features_indices:\n",
    "    all_values_of_feature = X[:, [idx]].flatten()\n",
    "    mins.append(min(all_values_of_feature))    \n",
    "    maxs.append(max(all_values_of_feature))\n",
    "\n",
    "print(\"Mins:\")\n",
    "print(\"{\")\n",
    "for i in range(len(mins)):\n",
    "    feature_idx = selected_features_indices[i]\n",
    "    print(f\"    '{breast_cancer.feature_names[feature_idx]}': {mins[i]},\")\n",
    "print(\"}\")\n",
    "\n",
    "\n",
    "print(\"\\nMaxs\")\n",
    "print(\"{\")\n",
    "for i in range(len(maxs)):\n",
    "    feature_idx = selected_features_indices[i]\n",
    "    print(f\"    '{breast_cancer.feature_names[feature_idx]}': {maxs[i]},\")\n",
    "print(\"}\")\n"
   ]
  }
 ],
 "metadata": {
  "kernelspec": {
   "display_name": "tmp-venv",
   "language": "python",
   "name": "python3"
  },
  "language_info": {
   "codemirror_mode": {
    "name": "ipython",
    "version": 3
   },
   "file_extension": ".py",
   "mimetype": "text/x-python",
   "name": "python",
   "nbconvert_exporter": "python",
   "pygments_lexer": "ipython3",
   "version": "3.9.6"
  }
 },
 "nbformat": 4,
 "nbformat_minor": 5
}
