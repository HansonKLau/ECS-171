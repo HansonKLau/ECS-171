{
 "cells": [
  {
   "cell_type": "markdown",
   "metadata": {},
   "source": [
    "# Final Random Forest Model for Flask Application\n",
    "\n",
    "This notebook contains the finalized code to build the Random Forest model for the breast cancer prediction web app. It uses the 13 features identified during the feature selection process in `Set3Model.ipynb`.\n",
    "\n",
    "**Purpose:** To train the model on the *entire* dataset and then serialize (save) the trained model object and the data scaler to disk using `joblib`.\n",
    "\n",
    "These saved files (`breast_cancer_model.joblib` and `scaler.joblib`) are what the Flask application will load at startup to make predictions on new user input. This separates the model training process (which is done once, here) from the prediction process (which is done by the live app)."
   ]
  },
  {
   "cell_type": "code",
   "execution_count": 3,
   "metadata": {},
   "outputs": [
    {
     "name": "stdout",
     "output_type": "stream",
     "text": [
      "--- Starting Final Model and Scaler Creation ---\n",
      "Breast cancer dataset loaded.\n",
      "\n",
      "Using the following 13 features for the model: [np.str_('worst perimeter'), np.str_('worst radius'), np.str_('worst concave points'), np.str_('worst area'), np.str_('mean concave points'), np.str_('mean concavity'), np.str_('mean area'), np.str_('area error'), np.str_('mean perimeter'), np.str_('mean radius'), np.str_('worst concavity'), np.str_('worst texture'), np.str_('mean texture')]\n",
      "\n",
      "Fitting the StandardScaler on the entire dataset...\n",
      "Data scaling complete.\n",
      "\n",
      "Training the final Random Forest model on the entire dataset...\n",
      "Model training complete.\n",
      "\n",
      "Saving model and scaler to disk using joblib...\n",
      "\n",
      "--- Model, Scaler, and Feature Names Saving Complete ---\n",
      "Files saved in current directory: /Users/christopherphan/School/171_ECS/final_project2/ECS-171/saved_models\n",
      "  - breast_cancer_model.joblib\n",
      "  - scaler.joblib\n",
      "\n",
      "These files are now ready to be used by the Flask application.\n"
     ]
    }
   ],
   "source": [
    "import numpy as np\n",
    "import joblib\n",
    "import os\n",
    "from sklearn.datasets import load_breast_cancer\n",
    "from sklearn.preprocessing import StandardScaler\n",
    "from sklearn.ensemble import RandomForestClassifier\n",
    "\n",
    "print(\"--- Starting Final Model and Scaler Creation ---\")\n",
    "\n",
    "# --- 1. Load Data ---\n",
    "breast_cancer = load_breast_cancer()\n",
    "print(\"Breast cancer dataset loaded.\")\n",
    "\n",
    "# --- 2. Feature Selection ---\n",
    "# These are the 13 features selected from the analysis in Set3Model.ipynb\n",
    "# 'worst perimeter', 'worst radius', 'worst concave points', 'worst area', 'mean concave points', \n",
    "# 'mean concavity', 'mean area', 'area error', 'mean perimeter', 'mean radius', \n",
    "# 'worst concavity', 'worst texture', 'mean texture'\n",
    "selected_features_indices = [22, 20, 27, 23, 7, 6, 3, 13, 2, 0, 26, 21, 1]\n",
    "\n",
    "# Get the corresponding names for printing\n",
    "feature_names = breast_cancer.feature_names[selected_features_indices]\n",
    "print(f\"\\nUsing the following 13 features for the model: {list(feature_names)}\")\n",
    "\n",
    "# Select the feature data (X) and target (y)\n",
    "X = breast_cancer.data[:, selected_features_indices]\n",
    "y = breast_cancer.target\n",
    "\n",
    "# --- 3. Data Scaling ---\n",
    "# A scaler is trained on the entire dataset. This SAME scaler must be used\n",
    "# to transform the input data for prediction in the Flask app.\n",
    "print(\"\\nFitting the StandardScaler on the entire dataset...\")\n",
    "scaler = StandardScaler()\n",
    "X_scaled = scaler.fit_transform(X)\n",
    "print(\"Data scaling complete.\")\n",
    "\n",
    "# --- 4. Model Training ---\n",
    "# The Random Forest model is configured with the best parameters found during\n",
    "# experimentation in Set3Model.ipynb. It is now trained on the ENTIRE scaled dataset\n",
    "# to make it as robust as possible for the final application.\n",
    "print(\"\\nTraining the final Random Forest model on the entire dataset...\")\n",
    "model = RandomForestClassifier(\n",
    "    max_features=6,\n",
    "    n_estimators=200,\n",
    "    max_depth=10,\n",
    "    min_samples_split=2,\n",
    "    min_samples_leaf=1,\n",
    "    random_state=123\n",
    ")\n",
    "model.fit(X_scaled, y)\n",
    "print(\"Model training complete.\")\n",
    "\n",
    "# --- 5. Save Model and Scaler ---\n",
    "# The trained model and scaler are saved to files in the project's root directory.\n",
    "# The Flask app is configured to load these specific files.\n",
    "print(\"\\nSaving model and scaler to disk using joblib...\")\n",
    "saved_models_dir = os.path.join(os.getcwd(), 'saved_models')\n",
    "# job lib dump should be saved in the saved_models directory\n",
    "\n",
    "joblib.dump(model, os.path.join(saved_models_dir, 'breast_cancer_model.joblib'))\n",
    "joblib.dump(scaler, os.path.join(saved_models_dir, 'scaler.joblib'))\n",
    "\n",
    "\n",
    "print(\"\\n--- Model, Scaler, and Feature Names Saving Complete ---\")\n",
    "print(f\"Files saved in current directory: {saved_models_dir}\")\n",
    "print(\"  - breast_cancer_model.joblib\")\n",
    "print(\"  - scaler.joblib\")\n",
    "print(\"\\nThese files are now ready to be used by the Flask application.\")"
   ]
  },
  {
   "cell_type": "code",
   "execution_count": null,
   "metadata": {},
   "outputs": [],
   "source": []
  }
 ],
 "metadata": {
  "kernelspec": {
   "display_name": "tmp-venv",
   "language": "python",
   "name": "python3"
  },
  "language_info": {
   "codemirror_mode": {
    "name": "ipython",
    "version": 3
   },
   "file_extension": ".py",
   "mimetype": "text/x-python",
   "name": "python",
   "nbconvert_exporter": "python",
   "pygments_lexer": "ipython3",
   "version": "3.9.6"
  }
 },
 "nbformat": 4,
 "nbformat_minor": 2
}
